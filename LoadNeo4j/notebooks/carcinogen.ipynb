{
 "cells": [
  {
   "cell_type": "code",
   "execution_count": 1,
   "id": "cd944fe0-c773-4d13-a186-1187844cc27f",
   "metadata": {},
   "outputs": [
    {
     "name": "stdout",
     "output_type": "stream",
     "text": [
      "Import successful\n"
     ]
    }
   ],
   "source": [
    "from neo4j import GraphDatabase\n",
    "import os\n",
    "import pandas as pd\n",
    "import time\n",
    "import json\n",
    "print(\"Import successful\")"
   ]
  },
  {
   "cell_type": "code",
   "execution_count": 2,
   "id": "aa19c0ee-5f65-41ce-9c9a-1345e9f2dc79",
   "metadata": {},
   "outputs": [],
   "source": [
    "URI = os.environ[\"NEO4J_URI\"]\n",
    "USER=os.environ[\"NEO4J_USER_NAME\"]\n",
    "PASSWORD=os.environ[\"NEO4J_PASSWD\"]\n",
    "AUTH = (os.environ[\"NEO4J_USER_NAME\"], os.environ[\"NEO4J_PASSWD\"])"
   ]
  },
  {
   "cell_type": "code",
   "execution_count": 3,
   "id": "27805360-a8da-4b22-998e-f5ed238eae95",
   "metadata": {},
   "outputs": [],
   "source": [
    "#Neo4J connect and Query Boilerplate\n",
    "\n",
    "class Neo4jConnection:\n",
    "    def __init__(self, uri, user, pwd):\n",
    "        self.__uri = uri\n",
    "        self.__user = user\n",
    "        self.__pwd = pwd\n",
    "        self.__driver = None\n",
    "        try:\n",
    "            self.__driver = GraphDatabase.driver(self.__uri, auth=(self.__user, self.__pwd))\n",
    "        except Exception as e:\n",
    "            print(\"Failed to create the driver:\", e)\n",
    "            \n",
    "    def close(self):\n",
    "        if self.__driver is not None:\n",
    "            self.__driver.close()\n",
    "    def query(self, query, parameters=None, db=None):\n",
    "        assert self.__driver is not None, \"Driver not initialized!\"\n",
    "        session = None\n",
    "        response = None\n",
    "        try: \n",
    "            session = self.__driver.session(database=db) if db is not None else self.__driver.session() \n",
    "            #response = (session.run(query, parameters))\n",
    "            response = list(session.run(query, parameters))\n",
    "        except Exception as e:\n",
    "            print(\"Query failed:\", e)\n",
    "        finally: \n",
    "            if session is not None:\n",
    "                session.close()\n",
    "        \n",
    "        #return pd.DataFrame([r.values() for r in response], columns=response.keys())\n",
    "        return response\n",
    "        \n",
    "    def multi_query(self, multi_line_query, parameters=None, db=None):\n",
    "        for li in multi_line_query.splitlines():\n",
    "                print(li)\n",
    "                result=self.query(li, parameters=None, db=None)\n",
    "                print(result)"
   ]
  },
  {
   "cell_type": "code",
   "execution_count": 4,
   "id": "466e8c41-5347-47a4-ba94-8f57aed4eb0f",
   "metadata": {},
   "outputs": [
    {
     "name": "stdout",
     "output_type": "stream",
     "text": [
      "[<Record count(n)=13774>]\n"
     ]
    }
   ],
   "source": [
    "#Make a default connection and it should return `[<Record count(n)=0>]`\n",
    "conn = Neo4jConnection(uri=URI, \n",
    "                       user=USER,\n",
    "                       pwd=PASSWORD)\n",
    "\n",
    "#if db is empty, then seed with init values \n",
    "res=conn.query('MATCH (n) RETURN count(n)')\n",
    "print(res)"
   ]
  },
  {
   "cell_type": "code",
   "execution_count": null,
   "id": "0df7f61a-a34f-4134-b408-88e355f3478b",
   "metadata": {},
   "outputs": [],
   "source": [
    "# NOTE: should be executed only once per database; Alternatively, you can also copy paste this query into neo4j browser\n",
    "constraint = [\n",
    "\"CREATE CONSTRAINT car_id FOR (carcinogen:Carcinogen) REQUIRE carcinogen.itemID IS UNIQUE;\",\n",
    "\"CALL db.awaitIndexes();\"]\n",
    "\n",
    "for cquery in constraint:\n",
    "    try:\n",
    "        res = conn.query(cquery)\n",
    "        print(f\"Executed successfully: {cquery}\")\n",
    "    except Exception as e:\n",
    "        print(f\"Error executing query: {cquery}\\n{e}\")"
   ]
  },
  {
   "cell_type": "code",
   "execution_count": null,
   "id": "63c65963-cd37-43b0-b119-e866290dd25c",
   "metadata": {},
   "outputs": [],
   "source": [
    "# ----------------- PAH Relationships ---------------------\n",
    "load_relationships1 = \"\"\"CALL apoc.periodic.iterate(\n",
    "    \"CALL apoc.load.csv('/CarcinogenCausal/rel_pah_mayProduce.csv') YIELD map AS row\",\n",
    "    \"MATCH (ing:Ingredient {itemID: row.ing_id})\n",
    "     MATCH (ca:CookingMethod {itemID: row.cooking_method_id})\n",
    "     MATCH (car:Carcinogen {itemID: row.carcinogen_id})\n",
    "     MERGE (ing)-[:ifUndergoes]->(ca)\n",
    "     MERGE (ca)-[:mayProduce]->(car)\",\n",
    "    {batchSize:10000, iterateList:true, parallel:true}\n",
    ")\"\"\"\n",
    "\n",
    "load_relationships2 = \"\"\"CALL apoc.periodic.iterate(\n",
    "    \"CALL apoc.load.csv('/CarcinogenCausal/rel_pah_mayProduced.csv') YIELD map AS row\",\n",
    "    \"MATCH (ing:Ingredient {itemID: row.ing_id})\n",
    "     MATCH (ca:CookingMethod {itemID: row.cooking_method_id})\n",
    "     MATCH (car:Carcinogen {itemID: row.carcinogen_id})\n",
    "     MERGE (ing)-[:hasUndergone]->(ca)\n",
    "     MERGE (ca)-[:mayProduced]->(car)\",\n",
    "    {batchSize:10000, iterateList:true, parallel:true}\n",
    ")\"\"\""
   ]
  },
  {
   "cell_type": "code",
   "execution_count": 6,
   "id": "9ea3da7c-5741-4152-825c-33166959bc6e",
   "metadata": {},
   "outputs": [
    {
     "name": "stdout",
     "output_type": "stream",
     "text": [
      "Relationships mayProduce loaded. Time taken:1 seconds. Committed Operations: 35720. Failed Operations:0\n",
      "Relationships mayProduced loaded. Time taken:0 seconds. Committed Operations: 35720. Failed Operations:0\n"
     ]
    }
   ],
   "source": [
    "result = conn.query(load_relationships1)\n",
    "print(\"Relationships mayProduce loaded. Time taken:\" + str(result[0][2]) + ' seconds. Committed Operations: ' + str(result[0][3]) + '. Failed Operations:' + str(result[0][4]))\n",
    "\n",
    "result = conn.query(load_relationships1)\n",
    "print(\"Relationships mayProduced loaded. Time taken:\" + str(result[0][2]) + ' seconds. Committed Operations: ' + str(result[0][3]) + '. Failed Operations:' + str(result[0][4]))\n"
   ]
  },
  {
   "cell_type": "code",
   "execution_count": null,
   "id": "3c74e9b9-b68c-4371-87ab-6b3911926007",
   "metadata": {},
   "outputs": [],
   "source": [
    "# ----------------- HCA Relationships ---------------------\n",
    "load_relationships1 = \"\"\"CALL apoc.periodic.iterate(\n",
    "    \"CALL apoc.load.csv('/CarcinogenCausal/rel_hca_mayProduce.csv') YIELD map AS row\",\n",
    "    \"MATCH (ing:Ingredient {itemID: row.ing_id})\n",
    "     MATCH (ca:CookingMethod {itemID: row.cooking_method_id})\n",
    "     MATCH (car:Carcinogen {itemID: row.carcinogen_id})\n",
    "     MERGE (ing)-[:ifUndergoes]->(ca)\n",
    "     MERGE (ca)-[:mayProduce]->(car)\",\n",
    "    {batchSize:10000, iterateList:true, parallel:true}\n",
    ")\"\"\"\n",
    "\n",
    "load_relationships2 = \"\"\"CALL apoc.periodic.iterate(\n",
    "    \"CALL apoc.load.csv('/CarcinogenCausal/rel_hca_mayProduced.csv') YIELD map AS row\",\n",
    "    \"MATCH (ing:Ingredient {itemID: row.ing_id})\n",
    "     MATCH (ca:CookingMethod {itemID: row.cooking_method_id})\n",
    "     MATCH (car:Carcinogen {itemID: row.carcinogen_id})\n",
    "     MERGE (ing)-[:hasUndergone]->(ca)\n",
    "     MERGE (ca)-[:mayProduced]->(car)\",\n",
    "    {batchSize:10000, iterateList:true, parallel:true}\n",
    ")\"\"\""
   ]
  },
  {
   "cell_type": "code",
   "execution_count": 9,
   "id": "51e220e0-902d-4254-b150-c651a3132afe",
   "metadata": {},
   "outputs": [
    {
     "name": "stdout",
     "output_type": "stream",
     "text": [
      "Relationships mayProduce loaded. Time taken:0 seconds. Committed Operations: 46436. Failed Operations:0\n",
      "Relationships mayProduced loaded. Time taken:0 seconds. Committed Operations: 46436. Failed Operations:0\n"
     ]
    }
   ],
   "source": [
    "result = conn.query(load_relationships1)\n",
    "print(\"Relationships mayProduce loaded. Time taken:\" + str(result[0][2]) + ' seconds. Committed Operations: ' + str(result[0][3]) + '. Failed Operations:' + str(result[0][4]))\n",
    "\n",
    "result = conn.query(load_relationships1)\n",
    "print(\"Relationships mayProduced loaded. Time taken:\" + str(result[0][2]) + ' seconds. Committed Operations: ' + str(result[0][3]) + '. Failed Operations:' + str(result[0][4]))\n"
   ]
  },
  {
   "cell_type": "code",
   "execution_count": null,
   "id": "cd95973a-dbda-4e16-8241-eb50b8ff6d24",
   "metadata": {},
   "outputs": [],
   "source": []
  }
 ],
 "metadata": {
  "kernelspec": {
   "display_name": "Python 3 (ipykernel)",
   "language": "python",
   "name": "python3"
  },
  "language_info": {
   "codemirror_mode": {
    "name": "ipython",
    "version": 3
   },
   "file_extension": ".py",
   "mimetype": "text/x-python",
   "name": "python",
   "nbconvert_exporter": "python",
   "pygments_lexer": "ipython3",
   "version": "3.11.6"
  }
 },
 "nbformat": 4,
 "nbformat_minor": 5
}
