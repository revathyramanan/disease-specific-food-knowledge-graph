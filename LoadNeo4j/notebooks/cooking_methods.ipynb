{
 "cells": [
  {
   "cell_type": "code",
   "execution_count": 1,
   "id": "6a2def45-e71d-4b4f-819d-95d6dcddd75f",
   "metadata": {},
   "outputs": [
    {
     "name": "stdout",
     "output_type": "stream",
     "text": [
      "Import successful\n"
     ]
    }
   ],
   "source": [
    "from neo4j import GraphDatabase\n",
    "import os\n",
    "import pandas as pd\n",
    "import time\n",
    "import json\n",
    "print(\"Import successful\")"
   ]
  },
  {
   "cell_type": "code",
   "execution_count": 2,
   "id": "48d80121-cad5-40c6-beed-bc2595962951",
   "metadata": {},
   "outputs": [],
   "source": [
    "URI = os.environ[\"NEO4J_URI\"]\n",
    "USER=os.environ[\"NEO4J_USER_NAME\"]\n",
    "PASSWORD=os.environ[\"NEO4J_PASSWD\"]\n",
    "AUTH = (os.environ[\"NEO4J_USER_NAME\"], os.environ[\"NEO4J_PASSWD\"])"
   ]
  },
  {
   "cell_type": "code",
   "execution_count": 3,
   "id": "de6796bb-ba37-4e53-8f3a-8fd54ba48670",
   "metadata": {},
   "outputs": [],
   "source": [
    "#Neo4J connect and Query Boilerplate\n",
    "\n",
    "class Neo4jConnection:\n",
    "    def __init__(self, uri, user, pwd):\n",
    "        self.__uri = uri\n",
    "        self.__user = user\n",
    "        self.__pwd = pwd\n",
    "        self.__driver = None\n",
    "        try:\n",
    "            self.__driver = GraphDatabase.driver(self.__uri, auth=(self.__user, self.__pwd))\n",
    "        except Exception as e:\n",
    "            print(\"Failed to create the driver:\", e)\n",
    "            \n",
    "    def close(self):\n",
    "        if self.__driver is not None:\n",
    "            self.__driver.close()\n",
    "    def query(self, query, parameters=None, db=None):\n",
    "        assert self.__driver is not None, \"Driver not initialized!\"\n",
    "        session = None\n",
    "        response = None\n",
    "        try: \n",
    "            session = self.__driver.session(database=db) if db is not None else self.__driver.session() \n",
    "            #response = (session.run(query, parameters))\n",
    "            response = list(session.run(query, parameters))\n",
    "        except Exception as e:\n",
    "            print(\"Query failed:\", e)\n",
    "        finally: \n",
    "            if session is not None:\n",
    "                session.close()\n",
    "        \n",
    "        #return pd.DataFrame([r.values() for r in response], columns=response.keys())\n",
    "        return response\n",
    "        \n",
    "    def multi_query(self, multi_line_query, parameters=None, db=None):\n",
    "        for li in multi_line_query.splitlines():\n",
    "                print(li)\n",
    "                result=self.query(li, parameters=None, db=None)\n",
    "                print(result)"
   ]
  },
  {
   "cell_type": "code",
   "execution_count": 4,
   "id": "30f993ce-b6db-49f9-90fe-0d6d3f0039d6",
   "metadata": {},
   "outputs": [
    {
     "name": "stdout",
     "output_type": "stream",
     "text": [
      "[<Record count(n)=13589>]\n"
     ]
    }
   ],
   "source": [
    "#Make a default connection and it should return `[<Record count(n)=0>]`\n",
    "conn = Neo4jConnection(uri=URI, \n",
    "                       user=USER,\n",
    "                       pwd=PASSWORD)\n",
    "\n",
    "#if db is empty, then seed with init values \n",
    "res=conn.query('MATCH (n) RETURN count(n)')\n",
    "print(res)"
   ]
  },
  {
   "cell_type": "code",
   "execution_count": null,
   "id": "5d90022c-a56e-4a30-9ece-04b52da2bdea",
   "metadata": {},
   "outputs": [],
   "source": [
    "# NOTE: should be executed only once per database; Alternatively, you can also copy paste this query into neo4j browser\n",
    "constraint = [\n",
    "\"CREATE CONSTRAINT cooking_id FOR (cooking_method:CookingMethod) REQUIRE cooking_method.itemID IS UNIQUE;\",\n",
    "\"CREATE CONSTRAINT cooking_cat_id FOR (cat:CookingMethodCategory) REQUIRE cat.itemID IS UNIQUE;\",\n",
    "\"CALL db.awaitIndexes();\"]\n",
    "\n",
    "\n",
    "for cquery in constraint:\n",
    "    try:\n",
    "        res = conn.query(cquery)\n",
    "        print(f\"Executed successfully: {cquery}\")\n",
    "    except Exception as e:\n",
    "        print(f\"Error executing query: {cquery}\\n{e}\")"
   ]
  },
  {
   "cell_type": "code",
   "execution_count": null,
   "id": "47e2a2fa-1529-41c2-ae99-32af7e580e86",
   "metadata": {},
   "outputs": [],
   "source": [
    "# Queries to load nodes\n",
    "load_cooking_methods = \"\"\"\n",
    "CALL apoc.periodic.iterate(\n",
    "    \"CALL apoc.load.csv('/CookingMethods/cooking_methods.csv') YIELD map as row\",\n",
    "    \"MERGE (cooking:CookingMethod {itemID: row.id}) \n",
    "     ON CREATE SET \n",
    "        cooking.name = row.name, \n",
    "        cooking.otherNames = row.other_names, \n",
    "        cooking.desc = row.description, \n",
    "        cooking.DBPediaURL = row.dbpedia_url, \n",
    "        cooking.wikiURL = row.wiki_url\",\n",
    "    {batchSize:1000, iterateList:true, parallel:true}\n",
    ")\n",
    "\"\"\"\n",
    "\n",
    "load_parent_nodes = \"\"\"\n",
    "CALL apoc.periodic.iterate(\n",
    "    \"CALL apoc.load.csv('/CookingMethods/other_nodes.csv') YIELD map as row\",\n",
    "    \"MERGE (cooking:CookingMethodCategory {itemID: row.id}) \n",
    "     ON CREATE SET \n",
    "        cooking.name = row.name\",\n",
    "    {batchSize:1000, iterateList:true, parallel:true}\n",
    ")\n",
    "\"\"\""
   ]
  },
  {
   "cell_type": "code",
   "execution_count": 7,
   "id": "903e113f-a624-43fc-9481-7ffa70e4a1f0",
   "metadata": {},
   "outputs": [
    {
     "name": "stdout",
     "output_type": "stream",
     "text": [
      "Cooking Method nodes loaded. Time taken:0 seconds. Committed Operations: 154. Failed Operations:0\n",
      "Cooking Method Parent nodes loaded. Time taken:0 seconds. Committed Operations: 34. Failed Operations:0\n"
     ]
    }
   ],
   "source": [
    "# Execution of those queries\n",
    "result = conn.query(load_cooking_methods)\n",
    "print(\"Cooking Method nodes loaded. Time taken:\" + str(result[0][2]) + ' seconds. Committed Operations: ' + str(result[0][3]) + '. Failed Operations:' + str(result[0][4]))\n",
    "\n",
    "result = conn.query(load_parent_nodes)\n",
    "print(\"Cooking Method Parent nodes loaded. Time taken:\" + str(result[0][2]) + ' seconds. Committed Operations: ' + str(result[0][3]) + '. Failed Operations:' + str(result[0][4]))\n"
   ]
  },
  {
   "cell_type": "code",
   "execution_count": null,
   "id": "2f04f626-f13a-4d30-8b41-6212a951991e",
   "metadata": {},
   "outputs": [],
   "source": [
    "# Queries to load relationships\n",
    "load_relationships = \"\"\"\n",
    "CALL apoc.periodic.iterate(\"CALL apoc.load.csv('/CookingMethods/rel_cooking_methods.csv') yield map as row\", \n",
    "\"MATCH (n {itemID: row.id1})\n",
    "MATCH (m {itemID: row.id2})\n",
    "MERGE (n)-[:isChildOf]->(m)\", \n",
    "{batchSize:10000, iterateList:true, parallel:true})\"\"\""
   ]
  },
  {
   "cell_type": "code",
   "execution_count": 9,
   "id": "c7968af2-f074-4628-8963-7ebe80009735",
   "metadata": {},
   "outputs": [
    {
     "name": "stdout",
     "output_type": "stream",
     "text": [
      "Cooking Method Relationships loaded. Time taken:3 seconds. Committed Operations: 209. Failed Operations:0\n"
     ]
    }
   ],
   "source": [
    "# Execution of these queries\n",
    "result = conn.query(load_relationships)\n",
    "print(\"Cooking Method Relationships loaded. Time taken:\" + str(result[0][2]) + ' seconds. Committed Operations: ' + str(result[0][3]) + '. Failed Operations:' + str(result[0][4]))\n"
   ]
  },
  {
   "cell_type": "code",
   "execution_count": null,
   "id": "866810f7-ed21-4acd-ad97-fa098fab9a57",
   "metadata": {},
   "outputs": [],
   "source": [
    "# Query to view the entire taxonomy\n",
    "\"\"\"\n",
    "MATCH path = (n:CookingMethod)-[:isChildOf*]->(c:CookingMethodCategory)\n",
    "RETURN path\n",
    "\"\"\""
   ]
  }
 ],
 "metadata": {
  "kernelspec": {
   "display_name": "Python 3 (ipykernel)",
   "language": "python",
   "name": "python3"
  },
  "language_info": {
   "codemirror_mode": {
    "name": "ipython",
    "version": 3
   },
   "file_extension": ".py",
   "mimetype": "text/x-python",
   "name": "python",
   "nbconvert_exporter": "python",
   "pygments_lexer": "ipython3",
   "version": "3.11.6"
  }
 },
 "nbformat": 4,
 "nbformat_minor": 5
}
