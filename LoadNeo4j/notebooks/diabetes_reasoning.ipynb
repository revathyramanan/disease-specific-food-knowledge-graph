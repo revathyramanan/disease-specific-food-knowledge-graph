{
 "cells": [
  {
   "cell_type": "code",
   "execution_count": 1,
   "id": "2fcb8508-3736-4dcb-84a0-c7c2131810c8",
   "metadata": {},
   "outputs": [
    {
     "name": "stdout",
     "output_type": "stream",
     "text": [
      "Import successful\n"
     ]
    }
   ],
   "source": [
    "from neo4j import GraphDatabase\n",
    "import os\n",
    "import pandas as pd\n",
    "import time\n",
    "import json\n",
    "print(\"Import successful\")"
   ]
  },
  {
   "cell_type": "code",
   "execution_count": 2,
   "id": "7e9fc424-cb6d-4f15-9a5c-53fed124a68d",
   "metadata": {},
   "outputs": [],
   "source": [
    "URI = os.environ[\"NEO4J_URI\"]\n",
    "USER=os.environ[\"NEO4J_USER_NAME\"]\n",
    "PASSWORD=os.environ[\"NEO4J_PASSWD\"]\n",
    "AUTH = (os.environ[\"NEO4J_USER_NAME\"], os.environ[\"NEO4J_PASSWD\"])"
   ]
  },
  {
   "cell_type": "code",
   "execution_count": 3,
   "id": "883a423e-af67-4e61-8b25-6fc72fee77de",
   "metadata": {},
   "outputs": [],
   "source": [
    "#Neo4J connect and Query Boilerplate\n",
    "\n",
    "class Neo4jConnection:\n",
    "    def __init__(self, uri, user, pwd):\n",
    "        self.__uri = uri\n",
    "        self.__user = user\n",
    "        self.__pwd = pwd\n",
    "        self.__driver = None\n",
    "        try:\n",
    "            self.__driver = GraphDatabase.driver(self.__uri, auth=(self.__user, self.__pwd))\n",
    "        except Exception as e:\n",
    "            print(\"Failed to create the driver:\", e)\n",
    "            \n",
    "    def close(self):\n",
    "        if self.__driver is not None:\n",
    "            self.__driver.close()\n",
    "    def query(self, query, parameters=None, db=None):\n",
    "        assert self.__driver is not None, \"Driver not initialized!\"\n",
    "        session = None\n",
    "        response = None\n",
    "        try: \n",
    "            session = self.__driver.session(database=db) if db is not None else self.__driver.session() \n",
    "            #response = (session.run(query, parameters))\n",
    "            response = list(session.run(query, parameters))\n",
    "        except Exception as e:\n",
    "            print(\"Query failed:\", e)\n",
    "        finally: \n",
    "            if session is not None:\n",
    "                session.close()\n",
    "        \n",
    "        #return pd.DataFrame([r.values() for r in response], columns=response.keys())\n",
    "        return response\n",
    "        \n",
    "    def multi_query(self, multi_line_query, parameters=None, db=None):\n",
    "        for li in multi_line_query.splitlines():\n",
    "                print(li)\n",
    "                result=self.query(li, parameters=None, db=None)\n",
    "                print(result)"
   ]
  },
  {
   "cell_type": "code",
   "execution_count": 4,
   "id": "254684eb-af55-443a-8665-c4da4ba3329c",
   "metadata": {},
   "outputs": [
    {
     "name": "stdout",
     "output_type": "stream",
     "text": [
      "[<Record count(n)=13776>]\n"
     ]
    }
   ],
   "source": [
    "#Make a default connection and it should return `[<Record count(n)=0>]`\n",
    "conn = Neo4jConnection(uri=URI, \n",
    "                       user=USER,\n",
    "                       pwd=PASSWORD)\n",
    "\n",
    "#if db is empty, then seed with init values \n",
    "res=conn.query('MATCH (n) RETURN count(n)')\n",
    "print(res)"
   ]
  },
  {
   "cell_type": "code",
   "execution_count": null,
   "id": "68d684b8-f0f1-4b18-acf6-74e09c4be290",
   "metadata": {},
   "outputs": [],
   "source": [
    "# NOTE: should be executed only once per database; Alternatively, you can also copy paste this query into neo4j browser\n",
    "constraint = [\n",
    "\"CREATE CONSTRAINT ing_id FOR (ing:Ingredient) REQUIRE ing.itemID IS UNIQUE;\",\n",
    "\"CREATE CONSTRAINT diabetes_cat_id FOR (diab_cat:DiabetesCategory) REQUIRE diab_cat.itemID IS UNIQUE;\",\n",
    "\"CREATE CONSTRAINT diabetes_label_id FOR (diab_des:DiabetesDecision) REQUIRE diab_des.itemID IS UNIQUE;\",\n",
    "\"CREATE CONSTRAINT contains_id FOR (contains:Contains) REQUIRE contains.itemID IS UNIQUE;\",\n",
    "\"CALL db.awaitIndexes();\"]\n",
    "\n",
    "for cquery in constraint:\n",
    "    try:\n",
    "        res = conn.query(cquery)\n",
    "        print(f\"Executed successfully: {cquery}\")\n",
    "    except Exception as e:\n",
    "        print(f\"Error executing query: {cquery}\\n{e}\")"
   ]
  },
  {
   "cell_type": "code",
   "execution_count": null,
   "id": "55d29cd8-b7f5-4c30-bb88-d8353fd01923",
   "metadata": {},
   "outputs": [],
   "source": [
    "# queries to load the data\n",
    "load_ingredients = \"\"\"\n",
    "CALL apoc.periodic.iterate(\"CALL apoc.load.csv('/DiabetesReasoning/ingredients.csv') yield map as row\", \n",
    "\"MERGE (ing:Ingredient {itemID: row.id}) \n",
    "ON CREATE SET ing.name = row.name, ing.USFDACategory = row.USFDA_Category, ing.nutrition = row.nutrition, ing.url = row.src_url\", \n",
    "{batchSize:1000, iterateList:true, parallel:true})\"\"\"\n",
    "\n",
    "load_diabetes_cat = \"\"\"\n",
    "CALL apoc.periodic.iterate(\"CALL apoc.load.csv('/DiabetesReasoning/diabetes_category.csv') yield map as row\", \n",
    "\"MERGE (diab_cat:DiabetesCategory {itemID: row.id}) \n",
    "ON CREATE SET diab_cat.name = row.label, diab_cat.knowledgeSource = row.disease_knowledge_name, diab_cat.url=row.disease_knowledge_url, diab_cat.description=row.description, diab_cat.sampleItems=row.example_items\", \n",
    "{batchSize:1000, iterateList:true, parallel:true})\"\"\"\n",
    "\n",
    "load_diab_label = \"\"\"\n",
    "CALL apoc.periodic.iterate(\"CALL apoc.load.csv('/DiabetesReasoning/diabetes_decision.csv') yield map as row\", \n",
    "\"MERGE (diab_des:DiabetesDecision {itemID: row.id}) \n",
    "ON CREATE SET diab_des.name = row.label\", \n",
    "{batchSize:1000, iterateList:true, parallel:true})\"\"\"\n",
    "\n",
    "load_contains = \"\"\"\n",
    "CALL apoc.periodic.iterate(\"CALL apoc.load.csv('/DiabetesReasoning/contains.csv') yield map as row\", \n",
    "\"MERGE (contains:Contains {itemID: row.id}) \n",
    "ON CREATE SET contains.name = row.name\", \n",
    "{batchSize:1000, iterateList:true, parallel:true})\"\"\""
   ]
  },
  {
   "cell_type": "code",
   "execution_count": 6,
   "id": "9e17fcfd-0107-410b-b0aa-26f4bc068a1c",
   "metadata": {},
   "outputs": [
    {
     "name": "stdout",
     "output_type": "stream",
     "text": [
      "Ingredient nodes loaded. Time taken:2 seconds. Committed Operations: 13538. Failed Operations:0\n",
      "DiabetesCategory nodes loaded. Time taken:0 seconds. Committed Operations: 22. Failed Operations:0\n",
      "DiabetesLabel nodes loaded. Time taken:0 seconds. Committed Operations: 3. Failed Operations:0\n",
      "Contains nodes loaded. Time taken:0 seconds. Committed Operations: 26. Failed Operations:0\n"
     ]
    }
   ],
   "source": [
    "result = conn.query(load_ingredients)\n",
    "print(\"Ingredient nodes loaded. Time taken:\" + str(result[0][2]) + ' seconds. Committed Operations: ' + str(result[0][3]) + '. Failed Operations:' + str(result[0][4]))\n",
    "\n",
    "result = conn.query(load_diabetes_cat)\n",
    "print(\"DiabetesCategory nodes loaded. Time taken:\" + str(result[0][2]) + ' seconds. Committed Operations: ' + str(result[0][3]) + '. Failed Operations:' + str(result[0][4]))\n",
    "\n",
    "result = conn.query(load_diab_label)\n",
    "print(\"DiabetesLabel nodes loaded. Time taken:\" + str(result[0][2]) + ' seconds. Committed Operations: ' + str(result[0][3]) + '. Failed Operations:' + str(result[0][4]))\n",
    "\n",
    "result = conn.query(load_contains)\n",
    "print(\"Contains nodes loaded. Time taken:\" + str(result[0][2]) + ' seconds. Committed Operations: ' + str(result[0][3]) + '. Failed Operations:' + str(result[0][4]))\n"
   ]
  },
  {
   "cell_type": "code",
   "execution_count": null,
   "id": "746482bb-198a-406d-a754-4a26c65b71a8",
   "metadata": {},
   "outputs": [],
   "source": [
    "load_ing_diab_cat=\"\"\"\n",
    "CALL apoc.periodic.iterate(\"CALL apoc.load.csv('/DiabetesReasoning/rel_ing_diab_cat.csv') yield map as row\", \n",
    "\"MATCH (ing:Ingredient {itemID: row.id1})\n",
    "MATCH (diab_cat:DiabetesCategory {itemID: row.id2})\n",
    "MERGE (ing)-[rel:belongsTo]->(diab_cat)\n",
    "SET rel.tag = row.tag, \n",
    "    rel.allowed = row.allowed, \n",
    "    rel.present = row.present,\n",
    "    rel.explanation = row.explanation\", \n",
    "{batchSize:10000, iterateList:true, parallel:true})\n",
    "\"\"\"\n",
    "\n",
    "load_diab_cat_diab_des=\"\"\"\n",
    "CALL apoc.periodic.iterate(\"CALL apoc.load.csv('/DiabetesReasoning/rel_diab_cat_diab_des.csv') yield map as row\", \n",
    "\"MATCH (diab_cat:DiabetesCategory {itemID: row.id1})\n",
    "MATCH (diab_des:DiabetesDecision {itemID: row.id2})\n",
    "MERGE (diab_cat)-[:classifiedAs]->(diab_des)\", \n",
    "{batchSize:10000, iterateList:true, parallel:true})\n",
    "\"\"\"\n",
    "\n",
    "load_ing_contain=\"\"\"\n",
    "CALL apoc.periodic.iterate(\"CALL apoc.load.csv('/DiabetesReasoning/rel_ing_contain.csv') yield map as row\", \n",
    "\"MATCH (ing:Ingredient {itemID: row.id1})\n",
    "MATCH (contains:Contains {itemID: row.id2})\n",
    "MERGE (ing)-[:has]->(contains)\", \n",
    "{batchSize:10000, iterateList:true, parallel:true})\n",
    "\"\"\""
   ]
  },
  {
   "cell_type": "code",
   "execution_count": 25,
   "id": "e36328e3-1e6b-46c5-8ed4-6ec5ab085dab",
   "metadata": {},
   "outputs": [
    {
     "name": "stdout",
     "output_type": "stream",
     "text": [
      "Relationship Ingredient-USFDACategory loaded. Time taken:1 seconds. Committed Operations: 115278. Failed Operations:0\n",
      "Relationship DiabetesCategory-DiabetesDecision loaded. Time taken:0 seconds. Committed Operations: 22. Failed Operations:0\n",
      "Relationship Ingredient-Contains loaded. Time taken:0 seconds. Committed Operations: 122128. Failed Operations:0\n"
     ]
    }
   ],
   "source": [
    "result = conn.query(load_ing_diab_cat)\n",
    "print(\"Relationship Ingredient-USFDACategory loaded. Time taken:\" + str(result[0][2]) + ' seconds. Committed Operations: ' + str(result[0][3]) + '. Failed Operations:' + str(result[0][4]))\n",
    "\n",
    "result = conn.query(load_diab_cat_diab_des)\n",
    "print(\"Relationship DiabetesCategory-DiabetesDecision loaded. Time taken:\" + str(result[0][2]) + ' seconds. Committed Operations: ' + str(result[0][3]) + '. Failed Operations:' + str(result[0][4]))\n",
    "\n",
    "result = conn.query(load_ing_contain)\n",
    "print(\"Relationship Ingredient-Contains loaded. Time taken:\" + str(result[0][2]) + ' seconds. Committed Operations: ' + str(result[0][3]) + '. Failed Operations:' + str(result[0][4]))\n"
   ]
  },
  {
   "cell_type": "code",
   "execution_count": null,
   "id": "1843d107-aa90-46fb-a236-e985b00cba45",
   "metadata": {},
   "outputs": [
    {
     "name": "stdout",
     "output_type": "stream",
     "text": [
      "Adding reduced ingredient name as property\n"
     ]
    },
    {
     "name": "stderr",
     "output_type": "stream",
     "text": [
      "100%|██████████| 13538/13538 [00:06<00:00, 2173.60it/s]"
     ]
    },
    {
     "name": "stdout",
     "output_type": "stream",
     "text": [
      "Property is added successfully to all nodes\n"
     ]
    },
    {
     "name": "stderr",
     "output_type": "stream",
     "text": [
      "\n"
     ]
    }
   ],
   "source": [
    "# add the reduced ingredient names - optional. But these are the names that are used to add carcinogens, smoke point and glycemic index\n",
    "import sys\n",
    "from tqdm import tqdm\n",
    "\n",
    "id_query = \"\"\"MATCH (n:Ingredient)\n",
    "RETURN n.itemID AS itemID\"\"\"\n",
    "res = conn.query(id_query)\n",
    "ids =  [record[\"itemID\"] for record in res]\n",
    "\n",
    "reduced_ings = json.load(open('data/USFDA_Reduced_Ingredients_Chatgpt.json', 'r'))\n",
    "done_ids = []\n",
    "print(\"Adding reduced ingredient name as property\")\n",
    "for ing_id in tqdm(reduced_ings):\n",
    "    reduced_name = reduced_ings[ing_id]['main_ing']\n",
    "    set_query = \"\"\"MATCH (n:Ingredient {itemID: $ing_id})\n",
    "    SET n.reduced_name = $reduced_ing_name\n",
    "    RETURN n\"\"\"\n",
    "    parameters = {'ing_id':str(ing_id),'reduced_ing_name': reduced_name}\n",
    "    res = conn.query(set_query, parameters)\n",
    "    if len(res) != 0:\n",
    "        done_ids.append(ing_id)\n",
    "    \n",
    "remaining = set(ids).difference(set(done_ids))\n",
    "if len(remaining) == 0:\n",
    "    print(\"Property is added successfully to all nodes\")\n",
    "else:\n",
    "    print(\"Property is not added to the following nodes:\")\n",
    "    print(list(remaining))"
   ]
  },
  {
   "cell_type": "code",
   "execution_count": null,
   "id": "ca6af805-c6a8-4e1f-bf0b-b3d4c69d269e",
   "metadata": {},
   "outputs": [
    {
     "name": "stdout",
     "output_type": "stream",
     "text": [
      "Adding reduced ingredient name as property\n"
     ]
    },
    {
     "name": "stderr",
     "output_type": "stream",
     "text": [
      "100%|██████████| 13539/13539 [00:18<00:00, 746.24it/s]"
     ]
    },
    {
     "name": "stdout",
     "output_type": "stream",
     "text": [
      "Property is added successfully to all nodes\n"
     ]
    },
    {
     "name": "stderr",
     "output_type": "stream",
     "text": [
      "\n"
     ]
    }
   ],
   "source": [
    "# Add measure units - optional\n",
    "import sys\n",
    "from tqdm import tqdm\n",
    "\n",
    "id_query = \"\"\"MATCH (n:Ingredient)\n",
    "RETURN n.itemID AS itemID\"\"\"\n",
    "res = conn.query(id_query)\n",
    "ids =  [record[\"itemID\"] for record in res]\n",
    "\n",
    "measure_units = json.load(open('data/measure_units.json', 'r'))\n",
    "done_ids = []\n",
    "print(\"Adding reduced ingredient name as property\")\n",
    "for ing_id in tqdm(measure_units):\n",
    "    curr_unit = json.dumps(measure_units[ing_id]) # serialize the list. To deserialize, do json.loads() when pulling data from neo4j\n",
    "    set_query = \"\"\"MATCH (n:Ingredient {itemID: $ing_id})\n",
    "    SET n.measure_unit = $units\n",
    "    RETURN n\"\"\"\n",
    "    parameters = {'ing_id':str(ing_id),'units': curr_unit}\n",
    "    res = conn.query(set_query, parameters)\n",
    "    if len(res) != 0:\n",
    "        done_ids.append(ing_id)\n",
    "    \n",
    "remaining = set(ids).difference(set(done_ids))\n",
    "if len(remaining) == 0:\n",
    "    print(\"Property is added successfully to all nodes\")\n",
    "else:\n",
    "    print(\"Property is not added to the following nodes\")\n",
    "    print(remaining)"
   ]
  },
  {
   "cell_type": "code",
   "execution_count": null,
   "id": "89090f95-f4c6-4911-b973-da82b5563612",
   "metadata": {},
   "outputs": [],
   "source": []
  }
 ],
 "metadata": {
  "kernelspec": {
   "display_name": "Python 3 (ipykernel)",
   "language": "python",
   "name": "python3"
  },
  "language_info": {
   "codemirror_mode": {
    "name": "ipython",
    "version": 3
   },
   "file_extension": ".py",
   "mimetype": "text/x-python",
   "name": "python",
   "nbconvert_exporter": "python",
   "pygments_lexer": "ipython3",
   "version": "3.11.6"
  }
 },
 "nbformat": 4,
 "nbformat_minor": 5
}
