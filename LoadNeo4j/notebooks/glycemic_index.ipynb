{
 "cells": [
  {
   "cell_type": "code",
   "execution_count": 1,
   "id": "1b341885-7b95-4220-9743-7938ea8d06c6",
   "metadata": {},
   "outputs": [
    {
     "name": "stdout",
     "output_type": "stream",
     "text": [
      "Import successful\n"
     ]
    }
   ],
   "source": [
    "\"\"\"\n",
    "NOTE: Execute this only after USFDA_Diabetes.ipynb is executed and USFDA ingredients are loaded.\n",
    "\"\"\"\n",
    "from neo4j import GraphDatabase\n",
    "import os\n",
    "import pandas as pd\n",
    "import time\n",
    "import json\n",
    "print(\"Import successful\")"
   ]
  },
  {
   "cell_type": "code",
   "execution_count": 2,
   "id": "fedb370a-7537-425e-8b40-b5183100cd75",
   "metadata": {},
   "outputs": [],
   "source": [
    "URI = os.environ[\"NEO4J_URI\"]\n",
    "USER=os.environ[\"NEO4J_USER_NAME\"]\n",
    "PASSWORD=os.environ[\"NEO4J_PASSWD\"]\n",
    "AUTH = (os.environ[\"NEO4J_USER_NAME\"], os.environ[\"NEO4J_PASSWD\"])"
   ]
  },
  {
   "cell_type": "code",
   "execution_count": 3,
   "id": "bbf767a9-22ae-4bb4-a3b9-a9c0c691d981",
   "metadata": {},
   "outputs": [],
   "source": [
    "#Neo4J connect and Query Boilerplate\n",
    "\n",
    "class Neo4jConnection:\n",
    "    def __init__(self, uri, user, pwd):\n",
    "        self.__uri = uri\n",
    "        self.__user = user\n",
    "        self.__pwd = pwd\n",
    "        self.__driver = None\n",
    "        try:\n",
    "            self.__driver = GraphDatabase.driver(self.__uri, auth=(self.__user, self.__pwd))\n",
    "        except Exception as e:\n",
    "            print(\"Failed to create the driver:\", e)\n",
    "            \n",
    "    def close(self):\n",
    "        if self.__driver is not None:\n",
    "            self.__driver.close()\n",
    "    def query(self, query, parameters=None, db=None):\n",
    "        assert self.__driver is not None, \"Driver not initialized!\"\n",
    "        session = None\n",
    "        response = None\n",
    "        try: \n",
    "            session = self.__driver.session(database=db) if db is not None else self.__driver.session() \n",
    "            #response = (session.run(query, parameters))\n",
    "            response = list(session.run(query, parameters))\n",
    "        except Exception as e:\n",
    "            print(\"Query failed:\", e)\n",
    "        finally: \n",
    "            if session is not None:\n",
    "                session.close()\n",
    "        \n",
    "        #return pd.DataFrame([r.values() for r in response], columns=response.keys())\n",
    "        return response\n",
    "        \n",
    "    def multi_query(self, multi_line_query, parameters=None, db=None):\n",
    "        for li in multi_line_query.splitlines():\n",
    "                print(li)\n",
    "                result=self.query(li, parameters=None, db=None)\n",
    "                print(result)"
   ]
  },
  {
   "cell_type": "code",
   "execution_count": 4,
   "id": "df4d2e28-8eff-496b-af7d-4c97c9327f64",
   "metadata": {},
   "outputs": [
    {
     "name": "stdout",
     "output_type": "stream",
     "text": [
      "[<Record count(n)=13781>]\n"
     ]
    }
   ],
   "source": [
    "#Make a default connection and it should return `[<Record count(n)=0>]`\n",
    "conn = Neo4jConnection(uri=URI, \n",
    "                       user=USER,\n",
    "                       pwd=PASSWORD)\n",
    "\n",
    "#if db is empty, then seed with init values \n",
    "res=conn.query('MATCH (n) RETURN count(n)')\n",
    "print(res)"
   ]
  },
  {
   "cell_type": "code",
   "execution_count": null,
   "id": "94dabdfe-ac9f-414d-a031-71c012117b12",
   "metadata": {},
   "outputs": [],
   "source": [
    "# NOTE: should be executed only once per database; Alternatively, you can also copy paste this query into neo4j browser\n",
    "constraint = [\n",
    "\"CREATE CONSTRAINT gi_ing_id FOR (gi_ing:GIIngredient) REQUIRE gi_ing.itemID IS UNIQUE;\",\n",
    "\"CREATE CONSTRAINT gi_cat_id FOR (gi_cat:GICategory) REQUIRE gi_cat.itemID IS UNIQUE;\",\n",
    "\"CALL db.awaitIndexes();\"]\n",
    "\n",
    "for cquery in constraint:\n",
    "    try:\n",
    "        res = conn.query(cquery)\n",
    "        print(f\"Executed successfully: {cquery}\")\n",
    "    except Exception as e:\n",
    "        print(f\"Error executing query: {cquery}\\n{e}\")"
   ]
  },
  {
   "cell_type": "code",
   "execution_count": null,
   "id": "f156fbc3-dfbc-4ed8-8ae5-b0fb44e9d3bb",
   "metadata": {},
   "outputs": [],
   "source": [
    "load_ingredients = \"\"\"\n",
    "CALL apoc.periodic.iterate(\"CALL apoc.load.csv('/GlycemicIndex/GI_ing_nodes.csv') yield map as row\", \n",
    "\"MERGE (ing:GIIngredient {itemID: row.id}) \n",
    "ON CREATE SET ing.name = row.name, ing.productCategory = row.product_category, ing.manufacturer = row.food_manufacturer, ing.country = row.country, \n",
    "ing.GI=row.GI, ing.GL=row.GL, ing.reference=row.reference, ing.reduced_name=row.reduced_name, ing.srcUrl=row.src_url, ing.source=row.src\", \n",
    "{batchSize:1000, iterateList:true, parallel:true})\"\"\"\n",
    "\n",
    "load_category = \"\"\"\n",
    "CALL apoc.periodic.iterate(\"CALL apoc.load.csv('/GlycemicIndex/GI_cat_nodes.csv') yield map as row\", \n",
    "\"MERGE (c:GICategory {itemID: row.id}) \n",
    "ON CREATE SET c.name = row.name, c.srcUrl=row.src_url\", \n",
    "{batchSize:1000, iterateList:true, parallel:true})\"\"\""
   ]
  },
  {
   "cell_type": "code",
   "execution_count": 24,
   "id": "545c7ee3-8b8d-43c7-93f1-86fb4bfc5ca6",
   "metadata": {},
   "outputs": [
    {
     "name": "stdout",
     "output_type": "stream",
     "text": [
      "Ingredient nodes loaded. Time taken:0 seconds. Committed Operations: 4231. Failed Operations:0\n",
      "GI Category nodes loaded. Time taken:0 seconds. Committed Operations: 3. Failed Operations:0\n"
     ]
    }
   ],
   "source": [
    "result = conn.query(load_ingredients)\n",
    "print(\"Ingredient nodes loaded. Time taken:\" + str(result[0][2]) + ' seconds. Committed Operations: ' + str(result[0][3]) + '. Failed Operations:' + str(result[0][4]))\n",
    "\n",
    "result = conn.query(load_category)\n",
    "print(\"GI Category nodes loaded. Time taken:\" + str(result[0][2]) + ' seconds. Committed Operations: ' + str(result[0][3]) + '. Failed Operations:' + str(result[0][4]))\n"
   ]
  },
  {
   "cell_type": "code",
   "execution_count": null,
   "id": "c1772d29-1736-4baf-aa4f-83168f5ef05c",
   "metadata": {},
   "outputs": [],
   "source": [
    "load_gi_usfda=\"\"\"\n",
    "CALL apoc.periodic.iterate(\"CALL apoc.load.csv('/GlycemicIndex/GI_USFDA_rels.csv') yield map as row\", \n",
    "\"MATCH (ing:Ingredient {itemID: row.id1})\n",
    "MATCH (gi_ing:GIIngredient {itemID: row.id2})\n",
    "MERGE (ing)-[rel:hasGIMatch]->(gi_ing)\n",
    "SET rel.GI = row.GI, \n",
    "    rel.cosine_sim = row.cos_sim\", \n",
    "{batchSize:10000, iterateList:true, parallel:true})\n",
    "\"\"\"\n",
    "\n",
    "load_gi_cat=\"\"\"\n",
    "CALL apoc.periodic.iterate(\"CALL apoc.load.csv('/GlycemicIndex/GI_rels.csv') yield map as row\", \n",
    "\"MATCH (gi_ing:GIIngredient {itemID: row.id1})\n",
    "MATCH (c:GICategory {itemID: row.id2})\n",
    "MERGE (gi_ing)-[rel:has]->(c)\n",
    "SET rel.GI = row.GI, \n",
    "    rel.GL = row.GL\", \n",
    "{batchSize:10000, iterateList:true, parallel:true})\n",
    "\"\"\""
   ]
  },
  {
   "cell_type": "code",
   "execution_count": 26,
   "id": "2a472998-949f-4a98-9608-823bad8512f1",
   "metadata": {},
   "outputs": [
    {
     "name": "stdout",
     "output_type": "stream",
     "text": [
      "Relationship GIIngredient-USFDA Ingredient loaded. Time taken:0 seconds. Committed Operations: 64462. Failed Operations:0\n",
      "Relationship GIIngredient-GICategory loaded. Time taken:0 seconds. Committed Operations: 4231. Failed Operations:0\n"
     ]
    }
   ],
   "source": [
    "result = conn.query(load_gi_usfda)\n",
    "print(\"Relationship GIIngredient-USFDA Ingredient loaded. Time taken:\" + str(result[0][2]) + ' seconds. Committed Operations: ' + str(result[0][3]) + '. Failed Operations:' + str(result[0][4]))\n",
    "\n",
    "result = conn.query(load_gi_cat)\n",
    "print(\"Relationship GIIngredient-GICategory loaded. Time taken:\" + str(result[0][2]) + ' seconds. Committed Operations: ' + str(result[0][3]) + '. Failed Operations:' + str(result[0][4]))\n"
   ]
  },
  {
   "cell_type": "code",
   "execution_count": null,
   "id": "bb90b45e-b484-490d-9224-8ba89aa83da4",
   "metadata": {},
   "outputs": [],
   "source": []
  }
 ],
 "metadata": {
  "kernelspec": {
   "display_name": "Python 3 (ipykernel)",
   "language": "python",
   "name": "python3"
  },
  "language_info": {
   "codemirror_mode": {
    "name": "ipython",
    "version": 3
   },
   "file_extension": ".py",
   "mimetype": "text/x-python",
   "name": "python",
   "nbconvert_exporter": "python",
   "pygments_lexer": "ipython3",
   "version": "3.11.6"
  }
 },
 "nbformat": 4,
 "nbformat_minor": 5
}
