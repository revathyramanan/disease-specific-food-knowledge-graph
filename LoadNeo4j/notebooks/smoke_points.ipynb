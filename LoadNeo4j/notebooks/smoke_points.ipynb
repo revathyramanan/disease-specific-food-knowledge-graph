{
 "cells": [
  {
   "cell_type": "code",
   "execution_count": 1,
   "id": "7769a176-ccd8-4a3a-ad60-b444879711de",
   "metadata": {},
   "outputs": [
    {
     "name": "stdout",
     "output_type": "stream",
     "text": [
      "Import successful\n"
     ]
    }
   ],
   "source": [
    "\"\"\"\n",
    "NOTE: Execute this only after USFDA_Diabetes.ipynb is executed and USFDA ingredients are loaded.\n",
    "\"\"\"\n",
    "from neo4j import GraphDatabase\n",
    "import os\n",
    "import pandas as pd\n",
    "import time\n",
    "import json\n",
    "print(\"Import successful\")"
   ]
  },
  {
   "cell_type": "code",
   "execution_count": 2,
   "id": "a325bb88-166c-424f-a938-37d00e2b7b65",
   "metadata": {},
   "outputs": [],
   "source": [
    "URI = os.environ[\"NEO4J_URI\"]\n",
    "USER=os.environ[\"NEO4J_USER_NAME\"]\n",
    "PASSWORD=os.environ[\"NEO4J_PASSWD\"]\n",
    "AUTH = (os.environ[\"NEO4J_USER_NAME\"], os.environ[\"NEO4J_PASSWD\"])"
   ]
  },
  {
   "cell_type": "code",
   "execution_count": 3,
   "id": "76098350-8a03-4844-86b4-dade39f85fde",
   "metadata": {},
   "outputs": [],
   "source": [
    "#Neo4J connect and Query Boilerplate\n",
    "\n",
    "class Neo4jConnection:\n",
    "    def __init__(self, uri, user, pwd):\n",
    "        self.__uri = uri\n",
    "        self.__user = user\n",
    "        self.__pwd = pwd\n",
    "        self.__driver = None\n",
    "        try:\n",
    "            self.__driver = GraphDatabase.driver(self.__uri, auth=(self.__user, self.__pwd))\n",
    "        except Exception as e:\n",
    "            print(\"Failed to create the driver:\", e)\n",
    "            \n",
    "    def close(self):\n",
    "        if self.__driver is not None:\n",
    "            self.__driver.close()\n",
    "    def query(self, query, parameters=None, db=None):\n",
    "        assert self.__driver is not None, \"Driver not initialized!\"\n",
    "        session = None\n",
    "        response = None\n",
    "        try: \n",
    "            session = self.__driver.session(database=db) if db is not None else self.__driver.session() \n",
    "            #response = (session.run(query, parameters))\n",
    "            response = list(session.run(query, parameters))\n",
    "        except Exception as e:\n",
    "            print(\"Query failed:\", e)\n",
    "        finally: \n",
    "            if session is not None:\n",
    "                session.close()\n",
    "        \n",
    "        #return pd.DataFrame([r.values() for r in response], columns=response.keys())\n",
    "        return response\n",
    "        \n",
    "    def multi_query(self, multi_line_query, parameters=None, db=None):\n",
    "        for li in multi_line_query.splitlines():\n",
    "                print(li)\n",
    "                result=self.query(li, parameters=None, db=None)\n",
    "                print(result)"
   ]
  },
  {
   "cell_type": "code",
   "execution_count": 4,
   "id": "6dafd54b-77e0-492b-b3d3-fdd18bede367",
   "metadata": {},
   "outputs": [
    {
     "name": "stdout",
     "output_type": "stream",
     "text": [
      "[<Record count(n)=13776>]\n"
     ]
    }
   ],
   "source": [
    "#Make a default connection and it should return `[<Record count(n)=0>]`\n",
    "conn = Neo4jConnection(uri=URI, \n",
    "                       user=USER,\n",
    "                       pwd=PASSWORD)\n",
    "\n",
    "#if db is empty, then seed with init values \n",
    "res=conn.query('MATCH (n) RETURN count(n)')\n",
    "print(res)"
   ]
  },
  {
   "cell_type": "code",
   "execution_count": null,
   "id": "9d059784-9119-4d58-ba9b-f9ed0fc7a217",
   "metadata": {},
   "outputs": [],
   "source": [
    "# NOTE: should be executed only once per database; Alternatively, you can also copy paste this query into neo4j browser\n",
    "constraint = [\n",
    "\"CREATE CONSTRAINT smk_cat_id FOR (smk_cat:SmokePointCategory) REQUIRE smk_cat.itemID IS UNIQUE;\",\n",
    "\"CALL db.awaitIndexes();\"]\n",
    "\n",
    "for cquery in constraint:\n",
    "    try:\n",
    "        res = conn.query(cquery)\n",
    "        print(f\"Executed successfully: {cquery}\")\n",
    "    except Exception as e:\n",
    "        print(f\"Error executing query: {cquery}\\n{e}\")"
   ]
  },
  {
   "cell_type": "code",
   "execution_count": null,
   "id": "b6df014e-4494-4e33-9e51-8b47e8bbb177",
   "metadata": {},
   "outputs": [],
   "source": [
    "load_categories = \"\"\"\n",
    "CALL apoc.periodic.iterate(\"CALL apoc.load.csv('/SmokingPoint/nodes.csv') yield map as row\", \n",
    "\"MERGE (i:SmokePointCategory {itemID: row.id}) \n",
    "ON CREATE SET i.name = row.smk_category\", \n",
    "{batchSize:10, iterateList:true, parallel:true})\"\"\"\n"
   ]
  },
  {
   "cell_type": "code",
   "execution_count": 13,
   "id": "3406be2b-ae70-4ef9-8234-6ccf8f68517a",
   "metadata": {},
   "outputs": [
    {
     "name": "stdout",
     "output_type": "stream",
     "text": [
      "SmokePointCategory nodes loaded. Time taken:0 seconds. Committed Operations: 5. Failed Operations:0\n"
     ]
    }
   ],
   "source": [
    "result = conn.query(load_categories)\n",
    "print(\"SmokePointCategory nodes loaded. Time taken:\" + str(result[0][2]) + ' seconds. Committed Operations: ' + str(result[0][3]) + '. Failed Operations:' + str(result[0][4]))\n"
   ]
  },
  {
   "cell_type": "code",
   "execution_count": null,
   "id": "42f9f5ef-a78c-44cc-9a1f-75ef65e02a04",
   "metadata": {},
   "outputs": [],
   "source": [
    "load_rels=\"\"\"\n",
    "CALL apoc.periodic.iterate(\"CALL apoc.load.csv('/SmokingPoint/relationships.csv') yield map as row\", \n",
    "\"MATCH (ing:Ingredient {itemID: row.id1})\n",
    "MATCH (smk:SmokePointCategory {itemID: row.id2})\n",
    "MERGE (ing)-[rel:hasSmokePoint]->(smk)\n",
    "SET rel.main_fat = row.main_fat_type, \n",
    "    rel.smoke_point = row.smoke_point, \n",
    "    rel.unit = 'F',\n",
    "    rel.src_ing_name = row.src_ing_name,\n",
    "    rel.src_url = row.src_url,\n",
    "    rel.additional_info = row.additional_info\", \n",
    "{batchSize:10000, iterateList:true, parallel:true})\n",
    "\"\"\""
   ]
  },
  {
   "cell_type": "code",
   "execution_count": 17,
   "id": "ed6b1268-ab5d-419c-a186-5e9474b8ff98",
   "metadata": {},
   "outputs": [
    {
     "name": "stdout",
     "output_type": "stream",
     "text": [
      "Relationships loaded. Time taken:0 seconds. Committed Operations: 65. Failed Operations:0\n"
     ]
    }
   ],
   "source": [
    "result = conn.query(load_rels)\n",
    "print(\"Relationships loaded. Time taken:\" + str(result[0][2]) + ' seconds. Committed Operations: ' + str(result[0][3]) + '. Failed Operations:' + str(result[0][4]))\n"
   ]
  },
  {
   "cell_type": "code",
   "execution_count": null,
   "id": "147ea300-2512-4c95-a6a2-91dcb4035e28",
   "metadata": {},
   "outputs": [],
   "source": []
  }
 ],
 "metadata": {
  "kernelspec": {
   "display_name": "Python 3 (ipykernel)",
   "language": "python",
   "name": "python3"
  },
  "language_info": {
   "codemirror_mode": {
    "name": "ipython",
    "version": 3
   },
   "file_extension": ".py",
   "mimetype": "text/x-python",
   "name": "python",
   "nbconvert_exporter": "python",
   "pygments_lexer": "ipython3",
   "version": "3.11.6"
  }
 },
 "nbformat": 4,
 "nbformat_minor": 5
}
